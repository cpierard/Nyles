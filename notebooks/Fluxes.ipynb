{
 "cells": [
  {
   "cell_type": "code",
   "execution_count": 3,
   "metadata": {},
   "outputs": [],
   "source": [
    "import matplotlib.pyplot as plt\n",
    "import numpy as np\n",
    "import diagnostics\n",
    "import numpy.ma as ma"
   ]
  },
  {
   "cell_type": "code",
   "execution_count": 4,
   "metadata": {},
   "outputs": [],
   "source": [
    "from iosubdomains import Variable"
   ]
  },
  {
   "cell_type": "code",
   "execution_count": 5,
   "metadata": {},
   "outputs": [],
   "source": [
    "exp = diagnostics.plume('../../data/Nyles/plume_ref4/', 'plume_ref4')"
   ]
  },
  {
   "cell_type": "code",
   "execution_count": 6,
   "metadata": {},
   "outputs": [
    {
     "data": {
      "text/plain": [
       "{'modelname': 'LES',\n",
       " 'geometry': 'closed',\n",
       " 'Lx': 4000.0,\n",
       " 'Ly': 4000.0,\n",
       " 'Lz': 2000.0,\n",
       " 'n_tracers': 0,\n",
       " 'unit_length': 'm',\n",
       " 'unit_duration': 's',\n",
       " 'rotating': True,\n",
       " 'forced': True,\n",
       " 'coriolis': 0.0001,\n",
       " 'diff_coef': {},\n",
       " 'datadir': '/home1/scratch/groullet/data/Nyles',\n",
       " 'expname': 'plume_ref4',\n",
       " 'mode': 'overwrite',\n",
       " 'variables_in_history': ['b', 'u'],\n",
       " 'timestep_history': 600.0,\n",
       " 'simplified_grid': True,\n",
       " 'include_halo': False,\n",
       " 'disk_space_warning': 0.5,\n",
       " 'show': False,\n",
       " 'iterations_per_frame': 4,\n",
       " 'style': 'b-interface',\n",
       " 'stable_stratification': False,\n",
       " 'aspect': 'equal',\n",
       " 'rotation_speed': 3,\n",
       " 'tend': 86400.0,\n",
       " 'timestepping': 'LFAM3',\n",
       " 'auto_dt': True,\n",
       " 'dt': 200.0,\n",
       " 'cfl': 0.8,\n",
       " 'dt_max': 200.0,\n",
       " 'global_nx': 32,\n",
       " 'global_ny': 32,\n",
       " 'global_nz': 16,\n",
       " 'orderVF': 5,\n",
       " 'orderKE': 5,\n",
       " 'orderA': 5,\n",
       " 'npx': 2,\n",
       " 'npy': 2,\n",
       " 'npz': 1,\n",
       " 'nh': 3,\n",
       " 'npre': 3,\n",
       " 'npost': 3,\n",
       " 'ndeepest': 20,\n",
       " 'omega': 0.8,\n",
       " 'tol': 0.001,\n",
       " 'maxite': 20,\n",
       " 'nglue': 1,\n",
       " 'ncellscoarsest': 32,\n",
       " 'nx': 16,\n",
       " 'ny': 16,\n",
       " 'nz': 16,\n",
       " 'procs': [1, 2, 2],\n",
       " 'myrank': 0,\n",
       " 'neighbours': {(0, 0, 1): 1, (0, 1, 0): 2, (0, 1, 1): 3},\n",
       " 'loc': [0, 0, 0],\n",
       " 'dx': 125.0}"
      ]
     },
     "execution_count": 6,
     "metadata": {},
     "output_type": "execute_result"
    }
   ],
   "source": [
    "exp.params"
   ]
  },
  {
   "cell_type": "markdown",
   "metadata": {},
   "source": [
    "# Nudging masks"
   ]
  },
  {
   "cell_type": "code",
   "execution_count": 7,
   "metadata": {},
   "outputs": [
    {
     "ename": "NameError",
     "evalue": "name 'fields' is not defined",
     "output_type": "error",
     "traceback": [
      "\u001b[0;31m---------------------------------------------------------------------------\u001b[0m",
      "\u001b[0;31mNameError\u001b[0m                                 Traceback (most recent call last)",
      "\u001b[0;32m<ipython-input-7-e87b8f88aed4>\u001b[0m in \u001b[0;36m<module>\u001b[0;34m\u001b[0m\n\u001b[1;32m      1\u001b[0m \u001b[0;31m## fields = exp.read_vars(['x', 'y', 'z'])\u001b[0m\u001b[0;34m\u001b[0m\u001b[0;34m\u001b[0m\u001b[0;34m\u001b[0m\u001b[0m\n\u001b[0;32m----> 2\u001b[0;31m x, y, z = np.meshgrid(fields['x']/exp.params['Lx'] - 0.5, \n\u001b[0m\u001b[1;32m      3\u001b[0m                      \u001b[0mfields\u001b[0m\u001b[0;34m[\u001b[0m\u001b[0;34m'y'\u001b[0m\u001b[0;34m]\u001b[0m\u001b[0;34m/\u001b[0m\u001b[0mexp\u001b[0m\u001b[0;34m.\u001b[0m\u001b[0mparams\u001b[0m\u001b[0;34m[\u001b[0m\u001b[0;34m'Lx'\u001b[0m\u001b[0;34m]\u001b[0m \u001b[0;34m-\u001b[0m \u001b[0;36m0.5\u001b[0m\u001b[0;34m,\u001b[0m\u001b[0;34m\u001b[0m\u001b[0;34m\u001b[0m\u001b[0m\n\u001b[1;32m      4\u001b[0m                      fields['z']/exp.params['Lz'])\n\u001b[1;32m      5\u001b[0m \u001b[0;34m\u001b[0m\u001b[0m\n",
      "\u001b[0;31mNameError\u001b[0m: name 'fields' is not defined"
     ]
    }
   ],
   "source": [
    "## fields = exp.read_vars(['x', 'y', 'z'])\n",
    "x, y, z = np.meshgrid(fields['x']/exp.params['Lx'] - 0.5, \n",
    "                     fields['y']/exp.params['Lx'] - 0.5, \n",
    "                     fields['z']/exp.params['Lz'])\n",
    "\n",
    "d = np.sqrt((x)**2 + (y)**2)\n",
    "#mask = ma.masked_outside(r, 0, r_max)"
   ]
  },
  {
   "cell_type": "code",
   "execution_count": 8,
   "metadata": {},
   "outputs": [],
   "source": [
    "# d0 = 0.45\n",
    "# horwidth = 0.05\n",
    "# h0 = 0.95\n",
    "# verwidth = 0.025\n",
    "\n",
    "# dampingcoef = 1./200\n",
    "\n",
    "# damping = 0.5*(1+np.tanh((d-d0)/horwidth)) # sponge layer\n",
    "# damping *= 0.5*(1+np.tanh((z-h0)/verwidth)) #in the vertical but it doesn't work here... \n",
    "# damping *= dampingcoef"
   ]
  },
  {
   "cell_type": "code",
   "execution_count": 9,
   "metadata": {},
   "outputs": [
    {
     "ename": "NameError",
     "evalue": "name 'd' is not defined",
     "output_type": "error",
     "traceback": [
      "\u001b[0;31m---------------------------------------------------------------------------\u001b[0m",
      "\u001b[0;31mNameError\u001b[0m                                 Traceback (most recent call last)",
      "\u001b[0;32m<ipython-input-9-e081844a6787>\u001b[0m in \u001b[0;36m<module>\u001b[0;34m\u001b[0m\n\u001b[0;32m----> 1\u001b[0;31m \u001b[0mmask_1\u001b[0m \u001b[0;34m=\u001b[0m \u001b[0mma\u001b[0m\u001b[0;34m.\u001b[0m\u001b[0mmasked_outside\u001b[0m\u001b[0;34m(\u001b[0m\u001b[0md\u001b[0m\u001b[0;34m,\u001b[0m \u001b[0;36m0\u001b[0m\u001b[0;34m,\u001b[0m \u001b[0;36m0.45\u001b[0m\u001b[0;34m)\u001b[0m\u001b[0;34m\u001b[0m\u001b[0;34m\u001b[0m\u001b[0m\n\u001b[0m",
      "\u001b[0;31mNameError\u001b[0m: name 'd' is not defined"
     ]
    }
   ],
   "source": [
    "mask_1 = ma.masked_outside(d, 0, 0.45)"
   ]
  },
  {
   "cell_type": "code",
   "execution_count": 10,
   "metadata": {},
   "outputs": [
    {
     "ename": "NameError",
     "evalue": "name 'z' is not defined",
     "output_type": "error",
     "traceback": [
      "\u001b[0;31m---------------------------------------------------------------------------\u001b[0m",
      "\u001b[0;31mNameError\u001b[0m                                 Traceback (most recent call last)",
      "\u001b[0;32m<ipython-input-10-e4cb1c21ca28>\u001b[0m in \u001b[0;36m<module>\u001b[0;34m\u001b[0m\n\u001b[0;32m----> 1\u001b[0;31m \u001b[0mmask_2\u001b[0m \u001b[0;34m=\u001b[0m \u001b[0mma\u001b[0m\u001b[0;34m.\u001b[0m\u001b[0mmasked_outside\u001b[0m\u001b[0;34m(\u001b[0m\u001b[0mz\u001b[0m\u001b[0;34m,\u001b[0m \u001b[0;36m0\u001b[0m\u001b[0;34m,\u001b[0m \u001b[0;36m0.90\u001b[0m\u001b[0;34m)\u001b[0m\u001b[0;34m\u001b[0m\u001b[0;34m\u001b[0m\u001b[0m\n\u001b[0m",
      "\u001b[0;31mNameError\u001b[0m: name 'z' is not defined"
     ]
    }
   ],
   "source": [
    "mask_2 = ma.masked_outside(z, 0, 0.90)"
   ]
  },
  {
   "cell_type": "code",
   "execution_count": 11,
   "metadata": {},
   "outputs": [
    {
     "ename": "NameError",
     "evalue": "name 'd' is not defined",
     "output_type": "error",
     "traceback": [
      "\u001b[0;31m---------------------------------------------------------------------------\u001b[0m",
      "\u001b[0;31mNameError\u001b[0m                                 Traceback (most recent call last)",
      "\u001b[0;32m<ipython-input-11-e32f5db85b21>\u001b[0m in \u001b[0;36m<module>\u001b[0;34m\u001b[0m\n\u001b[0;32m----> 1\u001b[0;31m \u001b[0md_damp\u001b[0m \u001b[0;34m=\u001b[0m \u001b[0mma\u001b[0m\u001b[0;34m.\u001b[0m\u001b[0mmasked_array\u001b[0m\u001b[0;34m(\u001b[0m\u001b[0md\u001b[0m\u001b[0;34m,\u001b[0m \u001b[0mmask_1\u001b[0m\u001b[0;34m.\u001b[0m\u001b[0mmask\u001b[0m\u001b[0;34m)\u001b[0m\u001b[0;34m\u001b[0m\u001b[0;34m\u001b[0m\u001b[0m\n\u001b[0m\u001b[1;32m      2\u001b[0m \u001b[0md_damp\u001b[0m \u001b[0;34m=\u001b[0m \u001b[0mma\u001b[0m\u001b[0;34m.\u001b[0m\u001b[0mmasked_array\u001b[0m\u001b[0;34m(\u001b[0m\u001b[0md_damp\u001b[0m\u001b[0;34m,\u001b[0m \u001b[0mmask_2\u001b[0m\u001b[0;34m.\u001b[0m\u001b[0mmask\u001b[0m\u001b[0;34m)\u001b[0m\u001b[0;34m\u001b[0m\u001b[0;34m\u001b[0m\u001b[0m\n",
      "\u001b[0;31mNameError\u001b[0m: name 'd' is not defined"
     ]
    }
   ],
   "source": [
    "d_damp = ma.masked_array(d, mask_1.mask)\n",
    "d_damp = ma.masked_array(d_damp, mask_2.mask)"
   ]
  },
  {
   "cell_type": "code",
   "execution_count": 12,
   "metadata": {},
   "outputs": [
    {
     "ename": "NameError",
     "evalue": "name 'x' is not defined",
     "output_type": "error",
     "traceback": [
      "\u001b[0;31m---------------------------------------------------------------------------\u001b[0m",
      "\u001b[0;31mNameError\u001b[0m                                 Traceback (most recent call last)",
      "\u001b[0;32m<ipython-input-12-36bea0670e36>\u001b[0m in \u001b[0;36m<module>\u001b[0;34m\u001b[0m\n\u001b[0;32m----> 1\u001b[0;31m \u001b[0mplt\u001b[0m\u001b[0;34m.\u001b[0m\u001b[0mpcolormesh\u001b[0m\u001b[0;34m(\u001b[0m\u001b[0mx\u001b[0m\u001b[0;34m[\u001b[0m\u001b[0;34m:\u001b[0m\u001b[0;34m,\u001b[0m\u001b[0;34m:\u001b[0m\u001b[0;34m,\u001b[0m\u001b[0;36m0\u001b[0m\u001b[0;34m]\u001b[0m\u001b[0;34m,\u001b[0m \u001b[0my\u001b[0m\u001b[0;34m[\u001b[0m\u001b[0;34m:\u001b[0m\u001b[0;34m,\u001b[0m\u001b[0;34m:\u001b[0m\u001b[0;34m,\u001b[0m\u001b[0;36m0\u001b[0m\u001b[0;34m]\u001b[0m\u001b[0;34m,\u001b[0m \u001b[0md_damp\u001b[0m\u001b[0;34m[\u001b[0m\u001b[0;34m:\u001b[0m\u001b[0;34m,\u001b[0m\u001b[0;34m:\u001b[0m\u001b[0;34m,\u001b[0m\u001b[0;36m0\u001b[0m\u001b[0;34m]\u001b[0m\u001b[0;34m)\u001b[0m\u001b[0;34m\u001b[0m\u001b[0;34m\u001b[0m\u001b[0m\n\u001b[0m\u001b[1;32m      2\u001b[0m \u001b[0mplt\u001b[0m\u001b[0;34m.\u001b[0m\u001b[0mcolorbar\u001b[0m\u001b[0;34m(\u001b[0m\u001b[0;34m)\u001b[0m\u001b[0;34m\u001b[0m\u001b[0;34m\u001b[0m\u001b[0m\n",
      "\u001b[0;31mNameError\u001b[0m: name 'x' is not defined"
     ]
    }
   ],
   "source": [
    "plt.pcolormesh(x[:,:,0], y[:,:,0], d_damp[:,:,0])\n",
    "plt.colorbar()"
   ]
  },
  {
   "cell_type": "code",
   "execution_count": 13,
   "metadata": {},
   "outputs": [
    {
     "ename": "NameError",
     "evalue": "name 'x' is not defined",
     "output_type": "error",
     "traceback": [
      "\u001b[0;31m---------------------------------------------------------------------------\u001b[0m",
      "\u001b[0;31mNameError\u001b[0m                                 Traceback (most recent call last)",
      "\u001b[0;32m<ipython-input-13-f5d4a71751ee>\u001b[0m in \u001b[0;36m<module>\u001b[0;34m\u001b[0m\n\u001b[0;32m----> 1\u001b[0;31m \u001b[0mplt\u001b[0m\u001b[0;34m.\u001b[0m\u001b[0mpcolormesh\u001b[0m\u001b[0;34m(\u001b[0m\u001b[0mx\u001b[0m\u001b[0;34m[\u001b[0m\u001b[0;36m10\u001b[0m\u001b[0;34m,\u001b[0m\u001b[0;34m:\u001b[0m\u001b[0;34m,\u001b[0m\u001b[0;34m:\u001b[0m\u001b[0;34m]\u001b[0m\u001b[0;34m,\u001b[0m \u001b[0mz\u001b[0m\u001b[0;34m[\u001b[0m\u001b[0;36m10\u001b[0m\u001b[0;34m,\u001b[0m\u001b[0;34m:\u001b[0m\u001b[0;34m,\u001b[0m\u001b[0;34m:\u001b[0m\u001b[0;34m]\u001b[0m\u001b[0;34m,\u001b[0m \u001b[0md_damp\u001b[0m\u001b[0;34m[\u001b[0m\u001b[0;36m10\u001b[0m\u001b[0;34m,\u001b[0m\u001b[0;34m:\u001b[0m\u001b[0;34m,\u001b[0m\u001b[0;34m:\u001b[0m\u001b[0;34m]\u001b[0m\u001b[0;34m)\u001b[0m\u001b[0;34m\u001b[0m\u001b[0;34m\u001b[0m\u001b[0m\n\u001b[0m\u001b[1;32m      2\u001b[0m \u001b[0mplt\u001b[0m\u001b[0;34m.\u001b[0m\u001b[0mcolorbar\u001b[0m\u001b[0;34m(\u001b[0m\u001b[0;34m)\u001b[0m\u001b[0;34m\u001b[0m\u001b[0;34m\u001b[0m\u001b[0m\n",
      "\u001b[0;31mNameError\u001b[0m: name 'x' is not defined"
     ]
    }
   ],
   "source": [
    "plt.pcolormesh(x[10,:,:], z[10,:,:], d_damp[10,:,:])\n",
    "plt.colorbar()"
   ]
  },
  {
   "cell_type": "markdown",
   "metadata": {},
   "source": [
    "# Fluxes"
   ]
  },
  {
   "cell_type": "code",
   "execution_count": 14,
   "metadata": {},
   "outputs": [],
   "source": [
    "def Flux(flux):\n",
    "    if flux == 'mass':\n",
    "        set_integrand = lambda x: x\n",
    "        \n",
    "    elif flux == 'momentum':\n",
    "        set_integrand = lambda x: x**2\n",
    "        \n",
    "    elif flux == 'buoyancy':\n",
    "        b = exp.read_vars('b')['b']\n",
    "        set_integrand = lambda x: x*b\n",
    "        \n",
    "    npx = exp.params['npx']\n",
    "    Lx = exp.params['Lx']\n",
    "    Ly = exp.params['Ly']\n",
    "    Lz = exp.params['Lz']\n",
    "    nz = exp.params['nz']\n",
    "    \n",
    "    dx = Lx/npx\n",
    "    t = exp.read_vars('t')['t']\n",
    "    n_time = t.shape[0]\n",
    "    \n",
    "    r_max = 0.45 # as in forced_plume_nudging.py\n",
    "    z_max = 0.95\n",
    "    \n",
    "    flux = np.zeros(n_time)\n",
    "    aux = np.zeros(nz)\n",
    "    \n",
    "    fields = exp.read_vars(['w', 'x', 'y', 'z'])\n",
    "    w = diagnostics.velocity_interpolation(fields['w'], axis=1)\n",
    "    \n",
    "    XX, YY, ZZ = np.meshgrid(fields['x']/Lx - 0.5, \n",
    "                         fields['y']/Ly - 0.5,\n",
    "                         fields['z']/Lz)\n",
    "    \n",
    "    r = np.sqrt(XX**2 + YY**2)\n",
    "    mask_1 = ma.masked_outside(r, 0, r_max)\n",
    "    mask_2 = ma.masked_outside(ZZ, 0, z_max)\n",
    "    \n",
    "    # defining integrand\n",
    "    integrand = set_integrand(w)\n",
    "\n",
    "    for t in range(n_time):\n",
    "        field_new = ma.masked_array(integrand[t], mask_1.mask)\n",
    "        field_new = ma.masked_array(field_new, mask_2.mask)\n",
    "        flux[t] = field_new.sum()\n",
    "\n",
    "    return flux"
   ]
  },
  {
   "cell_type": "code",
   "execution_count": null,
   "metadata": {},
   "outputs": [],
   "source": [
    "AA = Flux('mass')\n",
    "plt.plot(exp.time/3600, AA, 'k.-')\n",
    "plt.ylabel('Mass flux')\n",
    "plt.xlabel('time (hours)')"
   ]
  },
  {
   "cell_type": "code",
   "execution_count": null,
   "metadata": {},
   "outputs": [],
   "source": [
    "AA = Flux('momentum')\n",
    "plt.plot(exp.time/3600, AA, 'k.-')\n",
    "    \n",
    "plt.ylabel('Momentum flux ')\n",
    "plt.xlabel('time (hours)')"
   ]
  },
  {
   "cell_type": "code",
   "execution_count": null,
   "metadata": {},
   "outputs": [],
   "source": [
    "AA = Flux('buoyancy')\n",
    "plt.plot(exp.time/3600, AA, 'k.-')\n",
    "plt.ylabel('Buoyancy flux ')\n",
    "plt.xlabel('time (hours)')"
   ]
  },
  {
   "cell_type": "code",
   "execution_count": null,
   "metadata": {},
   "outputs": [],
   "source": []
  },
  {
   "cell_type": "markdown",
   "metadata": {},
   "source": [
    "# forced_plume_32z_00_hist.nc"
   ]
  },
  {
   "cell_type": "code",
   "execution_count": null,
   "metadata": {
    "scrolled": false
   },
   "outputs": [],
   "source": [
    "exp = diagnostics.plume('../../data/Nyles/forced_plume_32z/', 'forced_plume_32z')"
   ]
  },
  {
   "cell_type": "code",
   "execution_count": null,
   "metadata": {},
   "outputs": [],
   "source": [
    "variables = exp.read_vars(['x', 'y', 'z', 'KE'])"
   ]
  },
  {
   "cell_type": "code",
   "execution_count": null,
   "metadata": {},
   "outputs": [],
   "source": [
    "x = variables['x']\n",
    "y = variables['y']\n",
    "z = variables['z']\n",
    "\n",
    "XZ, ZX = np.meshgrid(x, z)\n",
    "XY, YX = np.meshgrid(x, y)"
   ]
  },
  {
   "cell_type": "code",
   "execution_count": null,
   "metadata": {},
   "outputs": [],
   "source": [
    "field = variables['KE']#/62.5\n",
    "\n",
    "n = 70\n",
    "maxx = 10\n",
    "minn = -10\n",
    "\n",
    "fig = plt.figure(figsize=(10,5), tight_layout=True)\n",
    "ax1 = plt.subplot(121, aspect='equal')\n",
    "im = ax1.pcolormesh(XZ, ZX, field[n, :, 32, :], cmap='plasma')#, vmax=maxx, vmin=minn)\n",
    "#ax1.text(2700, 2100, f't = {t[n]/3600:.2f} h', c='black', fontsize=14)\n",
    "#ax1.text(200, 2100, f'y = {y[32]:.0f} m', c='black', fontsize=14)\n",
    "ax1.set_xlabel('x (m)', fontsize=14)\n",
    "ax1.set_ylabel('z (m)', fontsize=14)\n",
    "\n",
    "ax2 = plt.subplot(122)\n",
    "ax2.pcolormesh(XY, YX, field[n, 10, :, :], cmap='plasma')#,  vmax=maxx, vmin=minn)\n",
    "#ax2.text(2650, 3600, f'z = {z[16]:.0f} m', c='white', fontsize=14)\n",
    "ax2.set_xlabel('x (m)', fontsize=14)\n",
    "ax2.set_ylabel('y (m)', fontsize=14)\n",
    "\n",
    "cbaxes = fig.add_axes([0.09, 0.18, 0.4, 0.05]) \n",
    "cb = plt.colorbar(im, cax = cbaxes, orientation='horizontal', label='w (m/s)') \n",
    "\n",
    "#plt.tight_layout()"
   ]
  },
  {
   "cell_type": "code",
   "execution_count": null,
   "metadata": {},
   "outputs": [],
   "source": []
  }
 ],
 "metadata": {
  "kernelspec": {
   "display_name": "Python 3",
   "language": "python",
   "name": "python3"
  },
  "language_info": {
   "codemirror_mode": {
    "name": "ipython",
    "version": 3
   },
   "file_extension": ".py",
   "mimetype": "text/x-python",
   "name": "python",
   "nbconvert_exporter": "python",
   "pygments_lexer": "ipython3",
   "version": "3.7.3"
  }
 },
 "nbformat": 4,
 "nbformat_minor": 4
}
