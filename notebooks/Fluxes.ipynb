{
 "cells": [
  {
   "cell_type": "code",
   "execution_count": 1,
   "metadata": {},
   "outputs": [],
   "source": [
    "import matplotlib.pyplot as plt\n",
    "import numpy as np\n",
    "import diagnostics\n",
    "import numpy.ma as ma"
   ]
  },
  {
   "cell_type": "code",
   "execution_count": 2,
   "metadata": {},
   "outputs": [],
   "source": [
    "from iosubdomains import Variable"
   ]
  },
  {
   "cell_type": "code",
   "execution_count": 3,
   "metadata": {},
   "outputs": [],
   "source": [
    "exp = diagnostics.plume('../../data/Nyles/plume_ref4/', 'plume_ref4')"
   ]
  },
  {
   "cell_type": "code",
   "execution_count": 4,
   "metadata": {},
   "outputs": [
    {
     "data": {
      "text/plain": [
       "{'modelname': 'LES',\n",
       " 'geometry': 'closed',\n",
       " 'Lx': 4000.0,\n",
       " 'Ly': 4000.0,\n",
       " 'Lz': 2000.0,\n",
       " 'n_tracers': 0,\n",
       " 'unit_length': 'm',\n",
       " 'unit_duration': 's',\n",
       " 'rotating': True,\n",
       " 'forced': True,\n",
       " 'coriolis': 0.0001,\n",
       " 'diff_coef': {},\n",
       " 'datadir': '/home1/scratch/groullet/data/Nyles',\n",
       " 'expname': 'plume_ref4',\n",
       " 'mode': 'overwrite',\n",
       " 'variables_in_history': ['b', 'u'],\n",
       " 'timestep_history': 600.0,\n",
       " 'simplified_grid': True,\n",
       " 'include_halo': False,\n",
       " 'disk_space_warning': 0.5,\n",
       " 'show': False,\n",
       " 'iterations_per_frame': 4,\n",
       " 'style': 'b-interface',\n",
       " 'stable_stratification': False,\n",
       " 'aspect': 'equal',\n",
       " 'rotation_speed': 3,\n",
       " 'tend': 86400.0,\n",
       " 'timestepping': 'LFAM3',\n",
       " 'auto_dt': True,\n",
       " 'dt': 200.0,\n",
       " 'cfl': 0.8,\n",
       " 'dt_max': 200.0,\n",
       " 'global_nx': 32,\n",
       " 'global_ny': 32,\n",
       " 'global_nz': 16,\n",
       " 'orderVF': 5,\n",
       " 'orderKE': 5,\n",
       " 'orderA': 5,\n",
       " 'npx': 2,\n",
       " 'npy': 2,\n",
       " 'npz': 1,\n",
       " 'nh': 3,\n",
       " 'npre': 3,\n",
       " 'npost': 3,\n",
       " 'ndeepest': 20,\n",
       " 'omega': 0.8,\n",
       " 'tol': 0.001,\n",
       " 'maxite': 20,\n",
       " 'nglue': 1,\n",
       " 'ncellscoarsest': 32,\n",
       " 'nx': 16,\n",
       " 'ny': 16,\n",
       " 'nz': 16,\n",
       " 'procs': [1, 2, 2],\n",
       " 'myrank': 0,\n",
       " 'neighbours': {(0, 0, 1): 1, (0, 1, 0): 2, (0, 1, 1): 3},\n",
       " 'loc': [0, 0, 0],\n",
       " 'dx': 125.0}"
      ]
     },
     "execution_count": 4,
     "metadata": {},
     "output_type": "execute_result"
    }
   ],
   "source": [
    "exp.params"
   ]
  },
  {
   "cell_type": "code",
   "execution_count": 5,
   "metadata": {},
   "outputs": [],
   "source": [
    "variables = exp.read_vars(['b', 'v', 'z'])"
   ]
  },
  {
   "cell_type": "code",
   "execution_count": 6,
   "metadata": {},
   "outputs": [],
   "source": [
    "dd = exp.read_vars('b');"
   ]
  },
  {
   "cell_type": "code",
   "execution_count": 7,
   "metadata": {},
   "outputs": [
    {
     "data": {
      "text/plain": [
       "(145, 16, 32, 32)"
      ]
     },
     "execution_count": 7,
     "metadata": {},
     "output_type": "execute_result"
    }
   ],
   "source": [
    "dd['b'].shape"
   ]
  },
  {
   "cell_type": "code",
   "execution_count": 10,
   "metadata": {},
   "outputs": [],
   "source": [
    "b_avg = exp.disk_average('u')"
   ]
  },
  {
   "cell_type": "code",
   "execution_count": 14,
   "metadata": {},
   "outputs": [
    {
     "data": {
      "text/plain": [
       "[<matplotlib.lines.Line2D at 0x7f833978e550>]"
      ]
     },
     "execution_count": 14,
     "metadata": {},
     "output_type": "execute_result"
    },
    {
     "data": {
      "image/png": "[encoded data removed]",
      "text/plain": [
       "<Figure size 432x288 with 1 Axes>"
      ]
     },
     "metadata": {
      "needs_background": "light"
     },
     "output_type": "display_data"
    }
   ],
   "source": [
    "t = 120\n",
    "z = variables['z']\n",
    "plt.plot(b_avg[t,:],z)"
   ]
  },
  {
   "cell_type": "code",
   "execution_count": 15,
   "metadata": {
    "scrolled": false
   },
   "outputs": [],
   "source": [
    "KE = exp.kinetic_energy()"
   ]
  },
  {
   "cell_type": "code",
   "execution_count": 16,
   "metadata": {},
   "outputs": [
    {
     "data": {
      "text/plain": [
       "(145, 16, 32, 32)"
      ]
     },
     "execution_count": 16,
     "metadata": {},
     "output_type": "execute_result"
    }
   ],
   "source": [
    "KE.shape"
   ]
  },
  {
   "cell_type": "code",
   "execution_count": 18,
   "metadata": {},
   "outputs": [
    {
     "data": {
      "text/plain": [
       "Text(0.5, 1.0, 'b')"
      ]
     },
     "execution_count": 18,
     "metadata": {},
     "output_type": "execute_result"
    },
    {
     "data": {
      "image/png": "[encoded data removed]",
      "text/plain": [
       "<Figure size 576x432 with 2 Axes>"
      ]
     },
     "metadata": {
      "needs_background": "light"
     },
     "output_type": "display_data"
    }
   ],
   "source": [
    "nz = 13\n",
    "t = 143\n",
    "plt.figure(figsize=(8,6))\n",
    "plt.subplot(121)\n",
    "im1 = plt.imshow(variables['v'][t, :, :,16])\n",
    "#plt.colorbar(im1)\n",
    "plt.title(r'$v$')\n",
    "\n",
    "plt.subplot(122)\n",
    "im2 = plt.imshow(variables['b'][t,:,:,16])\n",
    "plt.title('b')\n",
    "#plt.colorbar(im2)"
   ]
  },
  {
   "cell_type": "code",
   "execution_count": 19,
   "metadata": {},
   "outputs": [],
   "source": [
    "w = exp.read_vars(['w'])['w']"
   ]
  },
  {
   "cell_type": "code",
   "execution_count": 20,
   "metadata": {},
   "outputs": [
    {
     "data": {
      "text/plain": [
       "(145, 16, 32, 32)"
      ]
     },
     "execution_count": 20,
     "metadata": {},
     "output_type": "execute_result"
    }
   ],
   "source": [
    "w.shape"
   ]
  },
  {
   "cell_type": "code",
   "execution_count": 21,
   "metadata": {},
   "outputs": [],
   "source": [
    "w = diagnostics.velocity_interpolation(w, axis=1)"
   ]
  },
  {
   "cell_type": "code",
   "execution_count": 23,
   "metadata": {},
   "outputs": [],
   "source": [
    "def Flux(flux):\n",
    "    if flux == 'mass':\n",
    "        var = 1\n",
    "    elif flux == 'momentum':\n",
    "        var = exp.read_vars(['w', 'x', 'y'])\n",
    "    elif flux == 'buoyancy':\n",
    "        var = 'b'\n",
    "    \n",
    "    npx = exp.params['npx']\n",
    "    Lx = exp.params['Lx']\n",
    "    Ly = exp.params['Ly']\n",
    "    Lz = exp.params['Lz']\n",
    "    x0 = Lx/2 # center point in the x domain.\n",
    "    y0 = Ly/2 # center point in the y domain.\n",
    "    nz = exp.params['nz']\n",
    "    \n",
    "    dx = Lx/npx\n",
    "    \n",
    "    t = exp.read_vars('t')['t']\n",
    "    n_time = t.shape[0]\n",
    "    r_max = 1700 # define this radius from nudging.\n",
    "\n",
    "    flux = np.zeros(n_time)\n",
    "    aux = np.zeros(nz)\n",
    "    \n",
    "    fields = exp.read_vars(['w', 'x', 'y'])\n",
    "    w = diagnostics.velocity_interpolation(fields['w'], axis=1)/dx\n",
    "    \n",
    "    XX, YY = np.meshgrid(fields['x'], fields['y'])\n",
    "    r = np.sqrt((XX - x0)**2 + (YY - y0)**2)\n",
    "    mask = ma.masked_outside(r, 0, r_max)\n",
    "\n",
    "    for t in range(n_time):\n",
    "        for z_lvl in range(nz):\n",
    "            field_new = ma.masked_array(w[t, z_lvl, :, :], mask.mask)\n",
    "            aux[z_lvl] = field_new.sum()\n",
    "            \n",
    "        flux[t] = aux.sum()\n",
    "\n",
    "    return flux\n"
   ]
  },
  {
   "cell_type": "markdown",
   "metadata": {},
   "source": [
    "to do:"
   ]
  },
  {
   "cell_type": "code",
   "execution_count": 24,
   "metadata": {},
   "outputs": [],
   "source": [
    "AA = Flux('')"
   ]
  },
  {
   "cell_type": "code",
   "execution_count": 25,
   "metadata": {},
   "outputs": [
    {
     "data": {
      "text/plain": [
       "Text(0.5, 0, 'time (hours)')"
      ]
     },
     "execution_count": 25,
     "metadata": {},
     "output_type": "execute_result"
    },
    {
     "data": {
      "image/png": "[encoded data removed]",
      "text/plain": [
       "<Figure size 432x288 with 1 Axes>"
      ]
     },
     "metadata": {
      "needs_background": "light"
     },
     "output_type": "display_data"
    }
   ],
   "source": [
    "plt.plot(exp.time/3600, AA, 'k.-')\n",
    "plt.ylabel('Mass flux ($m^3/s$)')\n",
    "plt.xlabel('time (hours)')"
   ]
  },
  {
   "cell_type": "markdown",
   "metadata": {},
   "source": [
    "# forced_plume_32z_00_hist.nc"
   ]
  },
  {
   "cell_type": "code",
   "execution_count": 28,
   "metadata": {},
   "outputs": [
    {
     "data": {
      "text/plain": [
       "62.5"
      ]
     },
     "execution_count": 28,
     "metadata": {},
     "output_type": "execute_result"
    }
   ],
   "source": [
    "4000/64"
   ]
  },
  {
   "cell_type": "code",
   "execution_count": 29,
   "metadata": {},
   "outputs": [
    {
     "data": {
      "text/plain": [
       "62.5"
      ]
     },
     "execution_count": 29,
     "metadata": {},
     "output_type": "execute_result"
    }
   ],
   "source": [
    "2000/32"
   ]
  },
  {
   "cell_type": "code",
   "execution_count": 30,
   "metadata": {},
   "outputs": [
    {
     "data": {
      "text/plain": [
       "{'modelname': 'LES',\n",
       " 'geometry': 'closed',\n",
       " 'Lx': 4000.0,\n",
       " 'Ly': 4000.0,\n",
       " 'Lz': 2000.0,\n",
       " 'n_tracers': 0,\n",
       " 'unit_length': 'm',\n",
       " 'unit_duration': 's',\n",
       " 'rotating': True,\n",
       " 'forced': True,\n",
       " 'coriolis': 0.0001,\n",
       " 'diff_coef': {},\n",
       " 'datadir': '~/data/Nyles',\n",
       " 'expname': 'forced_plume_32z',\n",
       " 'mode': 'overwrite',\n",
       " 'variables_in_history': ['b', 'u'],\n",
       " 'timestep_history': 600.0,\n",
       " 'simplified_grid': True,\n",
       " 'include_halo': False,\n",
       " 'disk_space_warning': 0.5,\n",
       " 'show': False,\n",
       " 'iterations_per_frame': 4,\n",
       " 'style': 'b-interface',\n",
       " 'stable_stratification': False,\n",
       " 'aspect': 'equal',\n",
       " 'rotation_speed': 3,\n",
       " 'tend': 86400.0,\n",
       " 'timestepping': 'LFAM3',\n",
       " 'auto_dt': True,\n",
       " 'dt': 200.0,\n",
       " 'cfl': 0.8,\n",
       " 'dt_max': 200.0,\n",
       " 'global_nx': 64,\n",
       " 'global_ny': 64,\n",
       " 'global_nz': 32,\n",
       " 'orderVF': 5,\n",
       " 'orderKE': 5,\n",
       " 'orderA': 5,\n",
       " 'npx': 1,\n",
       " 'npy': 1,\n",
       " 'npz': 1,\n",
       " 'nh': 3,\n",
       " 'npre': 3,\n",
       " 'npost': 3,\n",
       " 'ndeepest': 20,\n",
       " 'omega': 0.8,\n",
       " 'tol': 0.001,\n",
       " 'maxite': 20,\n",
       " 'nglue': 1,\n",
       " 'ncellscoarsest': 32,\n",
       " 'nx': 64,\n",
       " 'ny': 64,\n",
       " 'nz': 32,\n",
       " 'procs': [1, 1, 1],\n",
       " 'myrank': 0,\n",
       " 'neighbours': {},\n",
       " 'loc': [0, 0, 0],\n",
       " 'dx': 62.5}"
      ]
     },
     "execution_count": 30,
     "metadata": {},
     "output_type": "execute_result"
    }
   ],
   "source": [
    "exp = diagnostics.plume('../../data/Nyles/forced_plume_32z/', 'forced_plume_32z')\n",
    "exp.params"
   ]
  },
  {
   "cell_type": "code",
   "execution_count": 31,
   "metadata": {},
   "outputs": [],
   "source": [
    "variables = exp.read_vars(['x', 'y', 'z', 'KE'])"
   ]
  },
  {
   "cell_type": "code",
   "execution_count": 32,
   "metadata": {},
   "outputs": [],
   "source": [
    "x = variables['x']\n",
    "y = variables['y']\n",
    "z = variables['z']\n",
    "\n",
    "XZ, ZX = np.meshgrid(x, z)\n",
    "XY, YX = np.meshgrid(x, y)"
   ]
  },
  {
   "cell_type": "code",
   "execution_count": 33,
   "metadata": {},
   "outputs": [
    {
     "name": "stderr",
     "output_type": "stream",
     "text": [
      "/Users/claudiopierard/miniconda3/lib/python3.7/site-packages/IPython/core/events.py:88: UserWarning: This figure includes Axes that are not compatible with tight_layout, so results might be incorrect.\n",
      "  func(*args, **kwargs)\n",
      "/Users/claudiopierard/miniconda3/lib/python3.7/site-packages/IPython/core/pylabtools.py:128: UserWarning: This figure includes Axes that are not compatible with tight_layout, so results might be incorrect.\n",
      "  fig.canvas.print_figure(bytes_io, **kw)\n"
     ]
    },
    {
     "data": {
      "image/png": "[encoded data removed]",
      "text/plain": [
       "<Figure size 720x360 with 3 Axes>"
      ]
     },
     "metadata": {
      "needs_background": "light"
     },
     "output_type": "display_data"
    }
   ],
   "source": [
    "field = variables['KE']#/62.5\n",
    "\n",
    "n = 70\n",
    "maxx = 10\n",
    "minn = -10\n",
    "\n",
    "fig = plt.figure(figsize=(10,5), tight_layout=True)\n",
    "ax1 = plt.subplot(121, aspect='equal')\n",
    "im = ax1.pcolormesh(XZ, ZX, field[n, :, 32, :], cmap='plasma')#, vmax=maxx, vmin=minn)\n",
    "#ax1.text(2700, 2100, f't = {t[n]/3600:.2f} h', c='black', fontsize=14)\n",
    "#ax1.text(200, 2100, f'y = {y[32]:.0f} m', c='black', fontsize=14)\n",
    "ax1.set_xlabel('x (m)', fontsize=14)\n",
    "ax1.set_ylabel('z (m)', fontsize=14)\n",
    "\n",
    "ax2 = plt.subplot(122)\n",
    "ax2.pcolormesh(XY, YX, field[n, 10, :, :], cmap='plasma')#,  vmax=maxx, vmin=minn)\n",
    "#ax2.text(2650, 3600, f'z = {z[16]:.0f} m', c='white', fontsize=14)\n",
    "ax2.set_xlabel('x (m)', fontsize=14)\n",
    "ax2.set_ylabel('y (m)', fontsize=14)\n",
    "\n",
    "cbaxes = fig.add_axes([0.09, 0.18, 0.4, 0.05]) \n",
    "cb = plt.colorbar(im, cax = cbaxes, orientation='horizontal', label='w (m/s)') \n",
    "\n",
    "#plt.tight_layout()"
   ]
  },
  {
   "cell_type": "code",
   "execution_count": null,
   "metadata": {},
   "outputs": [],
   "source": []
  }
 ],
 "metadata": {
  "kernelspec": {
   "display_name": "Python 3",
   "language": "python",
   "name": "python3"
  },
  "language_info": {
   "codemirror_mode": {
    "name": "ipython",
    "version": 3
   },
   "file_extension": ".py",
   "mimetype": "text/x-python",
   "name": "python",
   "nbconvert_exporter": "python",
   "pygments_lexer": "ipython3",
   "version": "3.7.3"
  }
 },
 "nbformat": 4,
 "nbformat_minor": 4
}
