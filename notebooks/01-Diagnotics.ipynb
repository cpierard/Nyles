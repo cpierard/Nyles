{
 "cells": [
  {
   "cell_type": "code",
   "execution_count": 2,
   "metadata": {},
   "outputs": [],
   "source": [
    "import numpy as np\n",
    "import matplotlib.pyplot as plt\n",
    "from netCDF4 import Dataset\n",
    "#from application.app.folder.averaging.py import averaging.py\n",
    "\n",
    "import sys\n",
    "sys.path.insert(1, '../tools/')\n",
    "import iosubdomains as ios"
   ]
  },
  {
   "cell_type": "markdown",
   "metadata": {},
   "source": [
    "----------"
   ]
  },
  {
   "cell_type": "code",
   "execution_count": 16,
   "metadata": {},
   "outputs": [],
   "source": [
    "b_00 = ios.Variable('../../data/Nyles/plume_ref4/plume_ref4_0%s_hist.nc', 'b')\n"
   ]
  },
  {
   "cell_type": "code",
   "execution_count": 20,
   "metadata": {},
   "outputs": [
    {
     "data": {
      "text/plain": [
       "<bound method Variable.check_sanity of template    : ../../data/Nyles/plume_ref4/plume_ref4_0%s_hist.nc\n",
       "variable    : b\n",
       "dimensions  : ('t', 'z', 'y', 'x')\n",
       "global shape: (145, 16, 32, 32)\n",
       "partition   : {'x': 2, 'y': 2, 'z': 1}>"
      ]
     },
     "execution_count": 20,
     "metadata": {},
     "output_type": "execute_result"
    }
   ],
   "source": [
    "b_00.check_sanity"
   ]
  },
  {
   "cell_type": "code",
   "execution_count": 1,
   "metadata": {},
   "outputs": [],
   "source": [
    "def horizontal_avg(field, yidx=slice(None), xidx=slice(None)):\n",
    "    \"\"\"\n",
    "\n",
    "    Do a horizontal average\n",
    "\n",
    "    Parameters\n",
    "    ----------\n",
    "    field : array,  2D or 3D\n",
    "         the field that you want to average\n",
    "\n",
    "    xidx, yidx : slice, optional\n",
    "         ranging over the interior points, excluding the halo\n",
    "         default is all points\n",
    "\n",
    "\n",
    "    Returns\n",
    "    -------\n",
    "    res : float or 1D array\n",
    "       the horizontal average\n",
    "\n",
    "    \"\"\"\n",
    "    if len(field.shape) == 2:\n",
    "        res = np.mean(field[yidx, xidx])\n",
    "    elif len(field.shape) == 3:\n",
    "        res = np.mean(np.mean(field[:, yidx, xidx], axis=2), axis=1)\n",
    "    else:\n",
    "        raise ValueError(\"field should be a 2D or 3D array\")\n",
    "    return res"
   ]
  },
  {
   "cell_type": "code",
   "execution_count": null,
   "metadata": {},
   "outputs": [],
   "source": []
  }
 ],
 "metadata": {
  "kernelspec": {
   "display_name": "Python 3",
   "language": "python",
   "name": "python3"
  },
  "language_info": {
   "codemirror_mode": {
    "name": "ipython",
    "version": 3
   },
   "file_extension": ".py",
   "mimetype": "text/x-python",
   "name": "python",
   "nbconvert_exporter": "python",
   "pygments_lexer": "ipython3",
   "version": "3.7.3"
  }
 },
 "nbformat": 4,
 "nbformat_minor": 4
}
