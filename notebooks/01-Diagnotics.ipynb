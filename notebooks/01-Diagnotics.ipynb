{
 "cells": [
  {
   "cell_type": "code",
   "execution_count": 2,
   "metadata": {},
   "outputs": [],
   "source": [
    "import numpy as np\n",
    "import matplotlib.pyplot as plt\n",
    "from netCDF4 import Dataset"
   ]
  },
  {
   "cell_type": "code",
   "execution_count": 4,
   "metadata": {},
   "outputs": [],
   "source": [
    "with Dataset('../../data/Nyles/plume_ref4/plume_ref4_00_hist.nc', 'r') as nc:\n",
    "    #print(nc.variables)\n",
    "    b = np.array(nc['b'][:])\n",
    "    x = np.array(nc['x'][:])\n",
    "    y = np.array(nc['y'][:])\n",
    "    z = np.array(nc['z'][:])\n",
    "    #w = np.array(nc['w'][:])\n",
    "    #v = np.array(nc['v'][:])\n",
    "    #u = np.array(nc['u'][:])\n",
    "    "
   ]
  },
  {
   "cell_type": "code",
   "execution_count": null,
   "metadata": {},
   "outputs": [],
   "source": []
  }
 ],
 "metadata": {
  "kernelspec": {
   "display_name": "Python 3",
   "language": "python",
   "name": "python3"
  },
  "language_info": {
   "codemirror_mode": {
    "name": "ipython",
    "version": 3
   },
   "file_extension": ".py",
   "mimetype": "text/x-python",
   "name": "python",
   "nbconvert_exporter": "python",
   "pygments_lexer": "ipython3",
   "version": "3.7.3"
  }
 },
 "nbformat": 4,
 "nbformat_minor": 2
}
