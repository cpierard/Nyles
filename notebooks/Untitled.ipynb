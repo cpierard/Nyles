{
 "cells": [
  {
   "cell_type": "code",
   "execution_count": 1,
   "metadata": {},
   "outputs": [],
   "source": [
    "import matplotlib.pyplot as plt\n",
    "import numpy as np\n",
    "import diagnostics"
   ]
  },
  {
   "cell_type": "code",
   "execution_count": 2,
   "metadata": {},
   "outputs": [
    {
     "data": {
      "text/plain": [
       "{'modelname': 'LES',\n",
       " 'geometry': 'closed',\n",
       " 'Lx': 4000.0,\n",
       " 'Ly': 4000.0,\n",
       " 'Lz': 2000.0,\n",
       " 'n_tracers': 0,\n",
       " 'unit_length': 'm',\n",
       " 'unit_duration': 's',\n",
       " 'rotating': True,\n",
       " 'forced': True,\n",
       " 'coriolis': 0.0001,\n",
       " 'diff_coef': {},\n",
       " 'datadir': '/home1/scratch/groullet/data/Nyles',\n",
       " 'expname': 'plume_ref4',\n",
       " 'mode': 'overwrite',\n",
       " 'variables_in_history': ['b', 'u'],\n",
       " 'timestep_history': 600.0,\n",
       " 'simplified_grid': True,\n",
       " 'include_halo': False,\n",
       " 'disk_space_warning': 0.5,\n",
       " 'show': False,\n",
       " 'iterations_per_frame': 4,\n",
       " 'style': 'b-interface',\n",
       " 'stable_stratification': False,\n",
       " 'aspect': 'equal',\n",
       " 'rotation_speed': 3,\n",
       " 'tend': 86400.0,\n",
       " 'timestepping': 'LFAM3',\n",
       " 'auto_dt': True,\n",
       " 'dt': 200.0,\n",
       " 'cfl': 0.8,\n",
       " 'dt_max': 200.0,\n",
       " 'global_nx': 32,\n",
       " 'global_ny': 32,\n",
       " 'global_nz': 16,\n",
       " 'orderVF': 5,\n",
       " 'orderKE': 5,\n",
       " 'orderA': 5,\n",
       " 'npx': 2,\n",
       " 'npy': 2,\n",
       " 'npz': 1,\n",
       " 'nh': 3,\n",
       " 'npre': 3,\n",
       " 'npost': 3,\n",
       " 'ndeepest': 20,\n",
       " 'omega': 0.8,\n",
       " 'tol': 0.001,\n",
       " 'maxite': 20,\n",
       " 'nglue': 1,\n",
       " 'ncellscoarsest': 32,\n",
       " 'nx': 16,\n",
       " 'ny': 16,\n",
       " 'nz': 16,\n",
       " 'procs': [1, 2, 2],\n",
       " 'myrank': 0,\n",
       " 'neighbours': {(0, 0, 1): 1, (0, 1, 0): 2, (0, 1, 1): 3},\n",
       " 'loc': [0, 0, 0]}"
      ]
     },
     "execution_count": 2,
     "metadata": {},
     "output_type": "execute_result"
    }
   ],
   "source": [
    "exp = diagnostics.plume('../../data/Nyles/plume_ref4/', 'plume_ref4')\n",
    "exp.params"
   ]
  },
  {
   "cell_type": "code",
   "execution_count": 30,
   "metadata": {},
   "outputs": [],
   "source": [
    "variables = exp.read_vars(['b', 'v'])"
   ]
  },
  {
   "cell_type": "code",
   "execution_count": 31,
   "metadata": {
    "scrolled": false
   },
   "outputs": [],
   "source": [
    "KE = exp.kinetic_energy()"
   ]
  },
  {
   "cell_type": "code",
   "execution_count": 32,
   "metadata": {},
   "outputs": [
    {
     "data": {
      "text/plain": [
       "(145, 16, 32, 32)"
      ]
     },
     "execution_count": 32,
     "metadata": {},
     "output_type": "execute_result"
    }
   ],
   "source": [
    "KE.shape"
   ]
  },
  {
   "cell_type": "code",
   "execution_count": 35,
   "metadata": {},
   "outputs": [
    {
     "data": {
      "text/plain": [
       "Text(0.5, 1.0, 'b')"
      ]
     },
     "execution_count": 35,
     "metadata": {},
     "output_type": "execute_result"
    },
    {
     "data": {
      "image/png": "[encoded data removed]",
      "text/plain": [
       "<Figure size 576x432 with 2 Axes>"
      ]
     },
     "metadata": {
      "needs_background": "light"
     },
     "output_type": "display_data"
    }
   ],
   "source": [
    "nz = 13\n",
    "t = 143\n",
    "plt.figure(figsize=(8,6))\n",
    "plt.subplot(121)\n",
    "im1 = plt.imshow(variables['v'][t, :, :,16])\n",
    "#plt.colorbar(im1)\n",
    "plt.title(r'$N^2$')\n",
    "\n",
    "plt.subplot(122)\n",
    "im2 = plt.imshow(variables['b'][t,:,:,16])\n",
    "plt.title('b')\n",
    "#plt.colorbar(im2)"
   ]
  },
  {
   "cell_type": "markdown",
   "metadata": {},
   "source": [
    "# forced_plume_32z_00_hist.nc"
   ]
  },
  {
   "cell_type": "code",
   "execution_count": 53,
   "metadata": {},
   "outputs": [
    {
     "data": {
      "text/plain": [
       "62.5"
      ]
     },
     "execution_count": 53,
     "metadata": {},
     "output_type": "execute_result"
    }
   ],
   "source": [
    "4000/64"
   ]
  },
  {
   "cell_type": "code",
   "execution_count": 54,
   "metadata": {},
   "outputs": [
    {
     "data": {
      "text/plain": [
       "62.5"
      ]
     },
     "execution_count": 54,
     "metadata": {},
     "output_type": "execute_result"
    }
   ],
   "source": [
    "2000/32"
   ]
  },
  {
   "cell_type": "code",
   "execution_count": 36,
   "metadata": {},
   "outputs": [
    {
     "data": {
      "text/plain": [
       "{'modelname': 'LES',\n",
       " 'geometry': 'closed',\n",
       " 'Lx': 4000.0,\n",
       " 'Ly': 4000.0,\n",
       " 'Lz': 2000.0,\n",
       " 'n_tracers': 0,\n",
       " 'unit_length': 'm',\n",
       " 'unit_duration': 's',\n",
       " 'rotating': True,\n",
       " 'forced': True,\n",
       " 'coriolis': 0.0001,\n",
       " 'diff_coef': {},\n",
       " 'datadir': '~/data/Nyles',\n",
       " 'expname': 'forced_plume_32z',\n",
       " 'mode': 'overwrite',\n",
       " 'variables_in_history': ['b', 'u'],\n",
       " 'timestep_history': 600.0,\n",
       " 'simplified_grid': True,\n",
       " 'include_halo': False,\n",
       " 'disk_space_warning': 0.5,\n",
       " 'show': False,\n",
       " 'iterations_per_frame': 4,\n",
       " 'style': 'b-interface',\n",
       " 'stable_stratification': False,\n",
       " 'aspect': 'equal',\n",
       " 'rotation_speed': 3,\n",
       " 'tend': 86400.0,\n",
       " 'timestepping': 'LFAM3',\n",
       " 'auto_dt': True,\n",
       " 'dt': 200.0,\n",
       " 'cfl': 0.8,\n",
       " 'dt_max': 200.0,\n",
       " 'global_nx': 64,\n",
       " 'global_ny': 64,\n",
       " 'global_nz': 32,\n",
       " 'orderVF': 5,\n",
       " 'orderKE': 5,\n",
       " 'orderA': 5,\n",
       " 'npx': 1,\n",
       " 'npy': 1,\n",
       " 'npz': 1,\n",
       " 'nh': 3,\n",
       " 'npre': 3,\n",
       " 'npost': 3,\n",
       " 'ndeepest': 20,\n",
       " 'omega': 0.8,\n",
       " 'tol': 0.001,\n",
       " 'maxite': 20,\n",
       " 'nglue': 1,\n",
       " 'ncellscoarsest': 32,\n",
       " 'nx': 64,\n",
       " 'ny': 64,\n",
       " 'nz': 32,\n",
       " 'procs': [1, 1, 1],\n",
       " 'myrank': 0,\n",
       " 'neighbours': {},\n",
       " 'loc': [0, 0, 0]}"
      ]
     },
     "execution_count": 36,
     "metadata": {},
     "output_type": "execute_result"
    }
   ],
   "source": [
    "exp = diagnostics.plume('../../data/Nyles/forced_plume_32z/', 'forced_plume_32z')\n",
    "exp.params"
   ]
  },
  {
   "cell_type": "code",
   "execution_count": 60,
   "metadata": {},
   "outputs": [],
   "source": [
    "variables = exp.read_vars(['x', 'y', 'z', 'KE'])"
   ]
  },
  {
   "cell_type": "code",
   "execution_count": 61,
   "metadata": {},
   "outputs": [],
   "source": [
    "x = variables['x']\n",
    "y = variables['y']\n",
    "z = variables['z']\n",
    "\n",
    "XZ, ZX = np.meshgrid(x, z)\n",
    "XY, YX = np.meshgrid(x, y)"
   ]
  },
  {
   "cell_type": "code",
   "execution_count": 64,
   "metadata": {},
   "outputs": [
    {
     "data": {
      "image/png": "[encoded data removed]",
      "text/plain": [
       "<Figure size 720x360 with 3 Axes>"
      ]
     },
     "metadata": {
      "needs_background": "light"
     },
     "output_type": "display_data"
    }
   ],
   "source": [
    "field = variables['KE']#/62.5\n",
    "\n",
    "n = 70\n",
    "maxx = 10\n",
    "minn = -10\n",
    "\n",
    "fig = plt.figure(figsize=(10,5), tight_layout=True)\n",
    "ax1 = plt.subplot(121, aspect='equal')\n",
    "im = ax1.pcolormesh(XZ, ZX, field[n, :, 32, :], cmap='plasma')#, vmax=maxx, vmin=minn)\n",
    "#ax1.text(2700, 2100, f't = {t[n]/3600:.2f} h', c='black', fontsize=14)\n",
    "#ax1.text(200, 2100, f'y = {y[32]:.0f} m', c='black', fontsize=14)\n",
    "ax1.set_xlabel('x (m)', fontsize=14)\n",
    "ax1.set_ylabel('z (m)', fontsize=14)\n",
    "\n",
    "ax2 = plt.subplot(122)\n",
    "ax2.pcolormesh(XY, YX, field[n, 10, :, :], cmap='plasma')#,  vmax=maxx, vmin=minn)\n",
    "#ax2.text(2650, 3600, f'z = {z[16]:.0f} m', c='white', fontsize=14)\n",
    "ax2.set_xlabel('x (m)', fontsize=14)\n",
    "ax2.set_ylabel('y (m)', fontsize=14)\n",
    "\n",
    "cbaxes = fig.add_axes([0.09, 0.18, 0.4, 0.05]) \n",
    "cb = plt.colorbar(im, cax = cbaxes, orientation='horizontal', label='w (m/s)') \n",
    "\n",
    "#plt.tight_layout()"
   ]
  },
  {
   "cell_type": "code",
   "execution_count": null,
   "metadata": {},
   "outputs": [],
   "source": []
  }
 ],
 "metadata": {
  "kernelspec": {
   "display_name": "Python 3",
   "language": "python",
   "name": "python3"
  },
  "language_info": {
   "codemirror_mode": {
    "name": "ipython",
    "version": 3
   },
   "file_extension": ".py",
   "mimetype": "text/x-python",
   "name": "python",
   "nbconvert_exporter": "python",
   "pygments_lexer": "ipython3",
   "version": "3.7.3"
  }
 },
 "nbformat": 4,
 "nbformat_minor": 4
}
