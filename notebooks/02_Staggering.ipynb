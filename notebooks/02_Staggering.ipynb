{
 "cells": [
  {
   "cell_type": "code",
   "execution_count": 1,
   "metadata": {},
   "outputs": [],
   "source": [
    "import matplotlib.pyplot as plt\n",
    "import numpy as np\n",
    "import diagnostics\n",
    "from netCDF4 import Dataset"
   ]
  },
  {
   "cell_type": "code",
   "execution_count": 2,
   "metadata": {},
   "outputs": [
    {
     "data": {
      "text/plain": [
       "(145,)"
      ]
     },
     "execution_count": 2,
     "metadata": {},
     "output_type": "execute_result"
    }
   ],
   "source": [
    "# field = {}\n",
    "# grid = {}\n",
    "from iosubdomains import Variable\n",
    "path = '../../data/Nyles/plume_ref4/plume_ref4_%02i_hist.nc'\n",
    "v=Variable(path, 'b')\n",
    "b = v[:,0,13,13]\n",
    "b.shape"
   ]
  },
  {
   "cell_type": "code",
   "execution_count": 9,
   "metadata": {},
   "outputs": [
    {
     "data": {
      "text/plain": [
       "array([   0.,    3.,    6.,    9.,   12.,   15.,   18.,   21.,   24.,\n",
       "         27.,   31.,   34.,   38.,   42.,   47.,   52.,   59.,   67.,\n",
       "         76.,   86.,   93.,   98.,  103.,  107.,  112.,  119.,  128.,\n",
       "        136.,  141.,  147.,  154.,  163.,  171.,  177.,  182.,  190.,\n",
       "        200.,  208.,  213.,  218.,  225.,  235.,  243.,  249.,  253.,\n",
       "        260.,  269.,  278.,  284.,  289.,  296.,  306.,  314.,  320.,\n",
       "        325.,  333.,  343.,  351.,  357.,  363.,  372.,  383.,  389.,\n",
       "        395.,  403.,  413.,  422.,  429.,  435.,  445.,  455.,  463.,\n",
       "        470.,  479.,  490.,  499.,  506.,  514.,  524.,  534.,  542.,\n",
       "        550.,  560.,  570.,  579.,  587.,  596.,  607.,  616.,  624.,\n",
       "        634.,  645.,  654.,  663.,  673.,  684.,  693.,  701.,  712.,\n",
       "        723.,  731.,  741.,  752.,  762.,  770.,  780.,  791.,  801.,\n",
       "        810.,  821.,  831.,  841.,  850.,  861.,  872.,  881.,  891.,\n",
       "        902.,  912.,  921.,  931.,  942.,  952.,  962.,  972.,  982.,\n",
       "        992., 1002., 1012., 1022., 1032., 1042., 1053., 1063., 1073.,\n",
       "       1083., 1093., 1103., 1113., 1124., 1134., 1144., 1154., 1164.,\n",
       "       1174.])"
      ]
     },
     "execution_count": 9,
     "metadata": {},
     "output_type": "execute_result"
    }
   ],
   "source": [
    "Variable(path, 'n')[:]"
   ]
  },
  {
   "cell_type": "markdown",
   "metadata": {},
   "source": [
    "include halo no need for that\n",
    "\n",
    "Z convention (nz, ny, nx)"
   ]
  },
  {
   "cell_type": "code",
   "execution_count": 6,
   "metadata": {},
   "outputs": [],
   "source": [
    "def velocity_interpolation(a, axis=-1):\n",
    "    \"\"\"\n",
    "    velocity_interpolation(a, axis=-1)\n",
    "\n",
    "    Linear interpolation for velocity in a staggered type C grid.\n",
    "    Z-convention (nz, ny, nx)\n",
    "\n",
    "    Parameters\n",
    "    ----------\n",
    "    a : array_like\n",
    "        Input array\n",
    "    axis : int, optional\n",
    "        The axis along which the difference is taken, default is the\n",
    "        last axis.\n",
    "\n",
    "    Returns\n",
    "    -------\n",
    "    U_interp : ndarray\n",
    "        Array with same dimension as input.\n",
    "    \"\"\"\n",
    "    nd = len(a.shape)\n",
    "\n",
    "    # adding one extra dimension to field at the lower boundary with\n",
    "    # zeros.\n",
    "    a_shape = list(a.shape)\n",
    "    a_shape[axis] = a.shape[axis] + 1\n",
    "    a_shape = tuple(a_shape)\n",
    "    slice0 = [slice(None)] * nd\n",
    "    slice0[axis] = slice(1, None)\n",
    "    slice0 = tuple(slice0)\n",
    "    a_prim = np.zeros(a_shape)\n",
    "    a_prim[slice0] = a\n",
    "\n",
    "    # doing the interpolation\n",
    "    slice1 = [slice(None)] * nd\n",
    "    slice2 = [slice(None)] * nd\n",
    "    slice1[axis] = slice(None, -1)\n",
    "    slice2[axis] = slice(1, None)\n",
    "    slice1 = tuple(slice1)\n",
    "    slice2 = tuple(slice2)\n",
    "\n",
    "    a_interp = (a_prim[slice1] + a_prim[slice2])/2\n",
    "    return a_interp"
   ]
  },
  {
   "cell_type": "code",
   "execution_count": 10,
   "metadata": {
    "scrolled": false
   },
   "outputs": [],
   "source": [
    "v_interp = velocity_interpolation(v[:], axis=1)"
   ]
  },
  {
   "cell_type": "code",
   "execution_count": 11,
   "metadata": {
    "scrolled": false
   },
   "outputs": [
    {
     "data": {
      "text/plain": [
       "Text(0.5, 1.0, 'Raw')"
      ]
     },
     "execution_count": 11,
     "metadata": {},
     "output_type": "execute_result"
    },
    {
     "data": {
      "image/png": "[encoded data removed]",
      "text/plain": [
       "<Figure size 576x432 with 2 Axes>"
      ]
     },
     "metadata": {
      "needs_background": "light"
     },
     "output_type": "display_data"
    }
   ],
   "source": [
    "nz = 13\n",
    "t = 96\n",
    "plt.figure(figsize=(8,6))\n",
    "plt.subplot(121)\n",
    "im1 = plt.imshow(v_interp[t, nz, :,:])\n",
    "#plt.colorbar(im1)\n",
    "plt.title('Interpolated')\n",
    "\n",
    "plt.subplot(122)\n",
    "im2 = plt.imshow(v[t,nz,:,:])\n",
    "plt.title('Raw')\n",
    "#plt.colorbar(im2)"
   ]
  },
  {
   "cell_type": "code",
   "execution_count": 7,
   "metadata": {},
   "outputs": [
    {
     "data": {
      "text/plain": [
       "{'modelname': 'LES',\n",
       " 'geometry': 'closed',\n",
       " 'Lx': 4000.0,\n",
       " 'Ly': 4000.0,\n",
       " 'Lz': 2000.0,\n",
       " 'n_tracers': 0,\n",
       " 'unit_length': 'm',\n",
       " 'unit_duration': 's',\n",
       " 'rotating': True,\n",
       " 'forced': True,\n",
       " 'coriolis': 0.0001,\n",
       " 'diff_coef': {},\n",
       " 'datadir': '/home1/scratch/groullet/data/Nyles',\n",
       " 'expname': 'plume_ref4',\n",
       " 'mode': 'overwrite',\n",
       " 'variables_in_history': ['b', 'u'],\n",
       " 'timestep_history': 600.0,\n",
       " 'simplified_grid': True,\n",
       " 'include_halo': False,\n",
       " 'disk_space_warning': 0.5,\n",
       " 'show': False,\n",
       " 'iterations_per_frame': 4,\n",
       " 'style': 'b-interface',\n",
       " 'stable_stratification': False,\n",
       " 'aspect': 'equal',\n",
       " 'rotation_speed': 3,\n",
       " 'tend': 86400.0,\n",
       " 'timestepping': 'LFAM3',\n",
       " 'auto_dt': True,\n",
       " 'dt': 200.0,\n",
       " 'cfl': 0.8,\n",
       " 'dt_max': 200.0,\n",
       " 'global_nx': 32,\n",
       " 'global_ny': 32,\n",
       " 'global_nz': 16,\n",
       " 'orderVF': 5,\n",
       " 'orderKE': 5,\n",
       " 'orderA': 5,\n",
       " 'npx': 2,\n",
       " 'npy': 2,\n",
       " 'npz': 1,\n",
       " 'nh': 3,\n",
       " 'npre': 3,\n",
       " 'npost': 3,\n",
       " 'ndeepest': 20,\n",
       " 'omega': 0.8,\n",
       " 'tol': 0.001,\n",
       " 'maxite': 20,\n",
       " 'nglue': 1,\n",
       " 'ncellscoarsest': 32,\n",
       " 'nx': 16,\n",
       " 'ny': 16,\n",
       " 'nz': 16,\n",
       " 'procs': [1, 2, 2],\n",
       " 'myrank': 0,\n",
       " 'neighbours': {(0, 0, 1): 1, (0, 1, 0): 2, (0, 1, 1): 3},\n",
       " 'loc': [0, 0, 0]}"
      ]
     },
     "execution_count": 7,
     "metadata": {},
     "output_type": "execute_result"
    }
   ],
   "source": [
    "exp = diagnostics.plume('../../data/Nyles/plume_ref4/', 'plume_ref4')\n",
    "exp.params"
   ]
  },
  {
   "cell_type": "code",
   "execution_count": 8,
   "metadata": {},
   "outputs": [
    {
     "data": {
      "text/plain": [
       "'../../data/Nyles/plume_ref4/plume_ref4_%02i_hist.nc'"
      ]
     },
     "execution_count": 8,
     "metadata": {},
     "output_type": "execute_result"
    }
   ],
   "source": [
    "exp.template"
   ]
  },
  {
   "cell_type": "code",
   "execution_count": 9,
   "metadata": {},
   "outputs": [
    {
     "ename": "NameError",
     "evalue": "name 'nc' is not defined",
     "output_type": "error",
     "traceback": [
      "\u001b[0;31m---------------------------------------------------------------------------\u001b[0m",
      "\u001b[0;31mNameError\u001b[0m                                 Traceback (most recent call last)",
      "\u001b[0;32m<ipython-input-9-fb79969dc485>\u001b[0m in \u001b[0;36m<module>\u001b[0;34m\u001b[0m\n\u001b[0;32m----> 1\u001b[0;31m \u001b[0mvariables\u001b[0m \u001b[0;34m=\u001b[0m \u001b[0mexp\u001b[0m\u001b[0;34m.\u001b[0m\u001b[0mread_vars\u001b[0m\u001b[0;34m(\u001b[0m\u001b[0;34m[\u001b[0m\u001b[0;34m'b'\u001b[0m\u001b[0;34m]\u001b[0m\u001b[0;34m,\u001b[0m \u001b[0;34m'dummy'\u001b[0m\u001b[0;34m)\u001b[0m\u001b[0;34m\u001b[0m\u001b[0;34m\u001b[0m\u001b[0m\n\u001b[0m",
      "\u001b[0;32m~/Nyles/notebooks/diagnostics.py\u001b[0m in \u001b[0;36mread_vars\u001b[0;34m(self, vars, file)\u001b[0m\n\u001b[1;32m     39\u001b[0m         \u001b[0mfields\u001b[0m \u001b[0;34m=\u001b[0m \u001b[0;34m{\u001b[0m\u001b[0;34m}\u001b[0m\u001b[0;34m\u001b[0m\u001b[0;34m\u001b[0m\u001b[0m\n\u001b[1;32m     40\u001b[0m         \u001b[0;32mfor\u001b[0m \u001b[0mvar\u001b[0m \u001b[0;32min\u001b[0m \u001b[0mvars\u001b[0m\u001b[0;34m:\u001b[0m\u001b[0;34m\u001b[0m\u001b[0;34m\u001b[0m\u001b[0m\n\u001b[0;32m---> 41\u001b[0;31m             \u001b[0;32mif\u001b[0m \u001b[0mvar\u001b[0m \u001b[0;32min\u001b[0m \u001b[0mnc\u001b[0m\u001b[0;34m.\u001b[0m\u001b[0mvariables\u001b[0m\u001b[0;34m:\u001b[0m\u001b[0;34m\u001b[0m\u001b[0;34m\u001b[0m\u001b[0m\n\u001b[0m\u001b[1;32m     42\u001b[0m                 \u001b[0mfields\u001b[0m\u001b[0;34m[\u001b[0m\u001b[0mvar\u001b[0m\u001b[0;34m]\u001b[0m \u001b[0;34m=\u001b[0m \u001b[0mVariable\u001b[0m\u001b[0;34m(\u001b[0m\u001b[0mself\u001b[0m\u001b[0;34m.\u001b[0m\u001b[0mtemplate\u001b[0m\u001b[0;34m,\u001b[0m \u001b[0mvar\u001b[0m\u001b[0;34m)\u001b[0m\u001b[0;34m\u001b[0m\u001b[0;34m\u001b[0m\u001b[0m\n\u001b[1;32m     43\u001b[0m             \u001b[0;32melif\u001b[0m \u001b[0mvar\u001b[0m \u001b[0;34m==\u001b[0m \u001b[0;34m'NN'\u001b[0m\u001b[0;34m:\u001b[0m\u001b[0;34m\u001b[0m\u001b[0;34m\u001b[0m\u001b[0m\n",
      "\u001b[0;31mNameError\u001b[0m: name 'nc' is not defined"
     ]
    }
   ],
   "source": [
    "variables = exp.read_vars(['b'], 'dummy')"
   ]
  },
  {
   "cell_type": "code",
   "execution_count": 25,
   "metadata": {},
   "outputs": [
    {
     "data": {
      "text/plain": [
       "dict_keys(['b'])"
      ]
     },
     "execution_count": 25,
     "metadata": {},
     "output_type": "execute_result"
    }
   ],
   "source": [
    "variables.keys()"
   ]
  },
  {
   "cell_type": "code",
   "execution_count": 7,
   "metadata": {},
   "outputs": [],
   "source": [
    "npx = exp.params['npx']\n",
    "npy = exp.params['npy']\n",
    "npz = exp.params['npz']\n",
    "number_domains = npx*npy*npz"
   ]
  },
  {
   "cell_type": "code",
   "execution_count": 8,
   "metadata": {},
   "outputs": [
    {
     "data": {
      "text/plain": [
       "16"
      ]
     },
     "execution_count": 8,
     "metadata": {},
     "output_type": "execute_result"
    }
   ],
   "source": [
    "number_domains"
   ]
  },
  {
   "cell_type": "code",
   "execution_count": 15,
   "metadata": {},
   "outputs": [
    {
     "name": "stdout",
     "output_type": "stream",
     "text": [
      "3 0\n"
     ]
    },
    {
     "ename": "KeyError",
     "evalue": "'x'",
     "output_type": "error",
     "traceback": [
      "\u001b[0;31m---------------------------------------------------------------------------\u001b[0m",
      "\u001b[0;31mKeyError\u001b[0m                                  Traceback (most recent call last)",
      "\u001b[0;32m<ipython-input-15-68eed6a61388>\u001b[0m in \u001b[0;36m<module>\u001b[0;34m\u001b[0m\n\u001b[1;32m     10\u001b[0m     \u001b[0mvariables\u001b[0m \u001b[0;34m=\u001b[0m \u001b[0mexp\u001b[0m\u001b[0;34m.\u001b[0m\u001b[0mread_vars\u001b[0m\u001b[0;34m(\u001b[0m\u001b[0;34m[\u001b[0m\u001b[0;34m'x'\u001b[0m\u001b[0;34m,\u001b[0m \u001b[0;34m'y'\u001b[0m\u001b[0;34m,\u001b[0m \u001b[0;34m'b'\u001b[0m\u001b[0;34m]\u001b[0m\u001b[0;34m,\u001b[0m \u001b[0;34mf'../../data/Nyles/plume_ref8/plume_ref8_{i:02d}_hist.nc'\u001b[0m\u001b[0;34m)\u001b[0m\u001b[0;34m\u001b[0m\u001b[0;34m\u001b[0m\u001b[0m\n\u001b[1;32m     11\u001b[0m     \u001b[0max\u001b[0m \u001b[0;34m=\u001b[0m \u001b[0mplt\u001b[0m\u001b[0;34m.\u001b[0m\u001b[0msubplot\u001b[0m\u001b[0;34m(\u001b[0m\u001b[0;36m4\u001b[0m\u001b[0;34m,\u001b[0m\u001b[0;36m4\u001b[0m\u001b[0;34m,\u001b[0m\u001b[0mk\u001b[0m\u001b[0;34m)\u001b[0m\u001b[0;34m\u001b[0m\u001b[0;34m\u001b[0m\u001b[0m\n\u001b[0;32m---> 12\u001b[0;31m     \u001b[0mXX\u001b[0m\u001b[0;34m,\u001b[0m \u001b[0mYY\u001b[0m \u001b[0;34m=\u001b[0m \u001b[0mnp\u001b[0m\u001b[0;34m.\u001b[0m\u001b[0mmeshgrid\u001b[0m\u001b[0;34m(\u001b[0m\u001b[0mvariables\u001b[0m\u001b[0;34m[\u001b[0m\u001b[0;34m'x'\u001b[0m\u001b[0;34m]\u001b[0m\u001b[0;34m,\u001b[0m \u001b[0mvariables\u001b[0m\u001b[0;34m[\u001b[0m\u001b[0;34m'y'\u001b[0m\u001b[0;34m]\u001b[0m\u001b[0;34m)\u001b[0m\u001b[0;34m\u001b[0m\u001b[0;34m\u001b[0m\u001b[0m\n\u001b[0m\u001b[1;32m     13\u001b[0m     \u001b[0max\u001b[0m\u001b[0;34m.\u001b[0m\u001b[0mpcolormesh\u001b[0m\u001b[0;34m(\u001b[0m\u001b[0mXX\u001b[0m\u001b[0;34m,\u001b[0m \u001b[0mYY\u001b[0m\u001b[0;34m,\u001b[0m \u001b[0mvariables\u001b[0m\u001b[0;34m[\u001b[0m\u001b[0;34m'b'\u001b[0m\u001b[0;34m]\u001b[0m\u001b[0;34m[\u001b[0m\u001b[0mt\u001b[0m\u001b[0;34m,\u001b[0m \u001b[0;36m8\u001b[0m\u001b[0;34m,\u001b[0m \u001b[0;34m:\u001b[0m\u001b[0;34m,\u001b[0m \u001b[0;34m:\u001b[0m\u001b[0;34m]\u001b[0m\u001b[0;34m)\u001b[0m\u001b[0;34m\u001b[0m\u001b[0;34m\u001b[0m\u001b[0m\n\u001b[1;32m     14\u001b[0m     \u001b[0max\u001b[0m\u001b[0;34m.\u001b[0m\u001b[0mtext\u001b[0m\u001b[0;34m(\u001b[0m\u001b[0mXX\u001b[0m\u001b[0;34m[\u001b[0m\u001b[0;36m1\u001b[0m\u001b[0;34m,\u001b[0m\u001b[0;36m1\u001b[0m\u001b[0;34m]\u001b[0m\u001b[0;34m,\u001b[0m\u001b[0mYY\u001b[0m\u001b[0;34m[\u001b[0m\u001b[0;36m1\u001b[0m\u001b[0;34m,\u001b[0m\u001b[0;36m1\u001b[0m\u001b[0;34m]\u001b[0m\u001b[0;34m,\u001b[0m \u001b[0;34mf'{i:02d}'\u001b[0m\u001b[0;34m,\u001b[0m \u001b[0msize\u001b[0m\u001b[0;34m=\u001b[0m\u001b[0;36m14\u001b[0m\u001b[0;34m)\u001b[0m\u001b[0;34m\u001b[0m\u001b[0;34m\u001b[0m\u001b[0m\n",
      "\u001b[0;31mKeyError\u001b[0m: 'x'"
     ]
    },
    {
     "data": {
      "image/png": "[encoded data removed]",
      "text/plain": [
       "<Figure size 432x288 with 1 Axes>"
      ]
     },
     "metadata": {
      "needs_background": "light"
     },
     "output_type": "display_data"
    }
   ],
   "source": [
    "t = 140\n",
    "x0 = 2000\n",
    "y0 = 2000\n",
    "path = '../../data/Nyles/plume_ref8/plume_ref4_00_hist.nc'\n",
    "\n",
    "for i in range(0, number_domains):\n",
    "    k = (i+2)%16 + 1\n",
    "    print(k, i)\n",
    "    \n",
    "    variables = exp.read_vars(['x', 'y', 'b'], f'../../data/Nyles/plume_ref8/plume_ref8_{i:02d}_hist.nc')\n",
    "    ax = plt.subplot(4,4,k)\n",
    "    XX, YY = np.meshgrid(variables['x'], variables['y'])\n",
    "    ax.pcolormesh(XX, YY, variables['b'][t, 8, :, :])\n",
    "    ax.text(XX[1,1],YY[1,1], f'{i:02d}', size=14)"
   ]
  },
  {
   "cell_type": "code",
   "execution_count": 5,
   "metadata": {},
   "outputs": [
    {
     "name": "stdout",
     "output_type": "stream",
     "text": [
      "['n', 't', 'x_b', 'y_b', 'z_b', 'x_u', 'y_u', 'z_u', 'x_v', 'y_v', 'z_v', 'x_w', 'y_w', 'z_w', 'x_vor_i', 'y_vor_i', 'z_vor_i', 'x_vor_j', 'y_vor_j', 'z_vor_j', 'x_vor_k', 'y_vor_k', 'z_vor_k', 'b', 'u', 'v', 'w']\n",
      "False\n"
     ]
    },
    {
     "ename": "IndexError",
     "evalue": "x not found in /",
     "output_type": "error",
     "traceback": [
      "\u001b[0;31m---------------------------------------------------------------------------\u001b[0m",
      "\u001b[0;31mIndexError\u001b[0m                                Traceback (most recent call last)",
      "\u001b[0;32m<ipython-input-5-891c8267a6d8>\u001b[0m in \u001b[0;36m<module>\u001b[0;34m\u001b[0m\n\u001b[1;32m      9\u001b[0m         \u001b[0mprint\u001b[0m\u001b[0;34m(\u001b[0m\u001b[0;34m'NN'\u001b[0m \u001b[0;32min\u001b[0m \u001b[0mnc\u001b[0m\u001b[0;34m.\u001b[0m\u001b[0mvariables\u001b[0m\u001b[0;34m)\u001b[0m\u001b[0;34m\u001b[0m\u001b[0;34m\u001b[0m\u001b[0m\n\u001b[1;32m     10\u001b[0m         \u001b[0mfield\u001b[0m\u001b[0;34m[\u001b[0m\u001b[0;34mf'b_{i:01d}'\u001b[0m\u001b[0;34m]\u001b[0m \u001b[0;34m=\u001b[0m \u001b[0mnc\u001b[0m\u001b[0;34m[\u001b[0m\u001b[0;34m'b'\u001b[0m\u001b[0;34m]\u001b[0m\u001b[0;34m[\u001b[0m\u001b[0;34m:\u001b[0m\u001b[0;34m]\u001b[0m\u001b[0;34m.\u001b[0m\u001b[0mdata\u001b[0m\u001b[0;34m\u001b[0m\u001b[0;34m\u001b[0m\u001b[0m\n\u001b[0;32m---> 11\u001b[0;31m         \u001b[0mgrid\u001b[0m\u001b[0;34m[\u001b[0m\u001b[0;34mf'x_{i:01d}'\u001b[0m\u001b[0;34m]\u001b[0m \u001b[0;34m=\u001b[0m \u001b[0mnc\u001b[0m\u001b[0;34m[\u001b[0m\u001b[0;34m'x'\u001b[0m\u001b[0;34m]\u001b[0m\u001b[0;34m[\u001b[0m\u001b[0;34m:\u001b[0m\u001b[0;34m]\u001b[0m\u001b[0;34m.\u001b[0m\u001b[0mdata\u001b[0m\u001b[0;34m\u001b[0m\u001b[0;34m\u001b[0m\u001b[0m\n\u001b[0m\u001b[1;32m     12\u001b[0m         \u001b[0mgrid\u001b[0m\u001b[0;34m[\u001b[0m\u001b[0;34mf'y_{i:01d}'\u001b[0m\u001b[0;34m]\u001b[0m \u001b[0;34m=\u001b[0m \u001b[0mnc\u001b[0m\u001b[0;34m[\u001b[0m\u001b[0;34m'y'\u001b[0m\u001b[0;34m]\u001b[0m\u001b[0;34m[\u001b[0m\u001b[0;34m:\u001b[0m\u001b[0;34m]\u001b[0m\u001b[0;34m.\u001b[0m\u001b[0mdata\u001b[0m\u001b[0;34m\u001b[0m\u001b[0;34m\u001b[0m\u001b[0m\n",
      "\u001b[0;32mnetCDF4/_netCDF4.pyx\u001b[0m in \u001b[0;36mnetCDF4._netCDF4.Dataset.__getitem__\u001b[0;34m()\u001b[0m\n",
      "\u001b[0;31mIndexError\u001b[0m: x not found in /"
     ]
    }
   ],
   "source": [
    "\n",
    "\n",
    "\n",
    "for i in range(0,1):\n",
    "    path = f'../../data/Nyles/plume_ref8/plume_ref8_{i:02d}_hist.nc'\n",
    "    variables = exp.read_vars(['x', 'y', 'b'], path)\n",
    "    \n",
    "#     with Dataset(path, 'r') as nc:\n",
    "#         print(list(nc.variables))\n",
    "#         print('NN' in nc.variables)\n",
    "#         field[f'b_{i:01d}'] = nc['b'][:].data\n",
    "#         grid[f'x_{i:01d}'] = nc['x'][:].data\n",
    "#         grid[f'y_{i:01d}'] = nc['y'][:].data"
   ]
  },
  {
   "cell_type": "code",
   "execution_count": null,
   "metadata": {},
   "outputs": [],
   "source": []
  }
 ],
 "metadata": {
  "kernelspec": {
   "display_name": "Python 3",
   "language": "python",
   "name": "python3"
  },
  "language_info": {
   "codemirror_mode": {
    "name": "ipython",
    "version": 3
   },
   "file_extension": ".py",
   "mimetype": "text/x-python",
   "name": "python",
   "nbconvert_exporter": "python",
   "pygments_lexer": "ipython3",
   "version": "3.7.3"
  }
 },
 "nbformat": 4,
 "nbformat_minor": 2
}
